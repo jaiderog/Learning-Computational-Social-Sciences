{
  "nbformat": 4,
  "nbformat_minor": 0,
  "metadata": {
    "colab": {
      "provenance": [],
      "authorship_tag": "ABX9TyNqT96zU6MOfpQ8sEXB6m6V",
      "include_colab_link": true
    },
    "kernelspec": {
      "name": "python3",
      "display_name": "Python 3"
    },
    "language_info": {
      "name": "python"
    }
  },
  "cells": [
    {
      "cell_type": "markdown",
      "metadata": {
        "id": "view-in-github",
        "colab_type": "text"
      },
      "source": [
        "<a href=\"https://colab.research.google.com/github/jaiderog/Learning-Computational-Social-Sciences/blob/master/Ejemplo_de_c%C3%B3digo1.ipynb\" target=\"_parent\"><img src=\"https://colab.research.google.com/assets/colab-badge.svg\" alt=\"Open In Colab\"/></a>"
      ]
    },
    {
      "cell_type": "markdown",
      "source": [
        "<p><img alt=\"Colaboratory logo\" height=\"140px\" src=\"https://upload.wikimedia.org/wikipedia/commons/archive/f/fb/20161010213812%21Escudo-UdeA.svg\" align=\"left\" hspace=\"10px\" vspace=\"0px\"></p>\n",
        "\n",
        "<h1> Curso de Lógica Computacional EIB - Introducción a la programación</h1>\n",
        "\n",
        "<h2>Material preparado por: Jaider Ochoa-Gutiérrez</h2>\n",
        "\n",
        "¡Bienvenidos al curso de Lógica Computacional! Este será nuestro \"cuaderno de programación\" para ir siguiendo y realizando los ejercicios básicos que nos permitan desarrollar un pensamiento computacional.\n",
        "\n",
        "Recuerden que lo más importante siempre será **¡prácticar, prácticar y prácticar!**"
      ],
      "metadata": {
        "id": "ZyG9TGSAbdgb"
      }
    },
    {
      "cell_type": "markdown",
      "source": [
        "**Descripción:** Este programa clasifica personas según su edad e ingresos."
      ],
      "metadata": {
        "id": "wj7fR7fgbqKt"
      }
    },
    {
      "cell_type": "code",
      "execution_count": null,
      "metadata": {
        "id": "KYRMwh7zbWrV"
      },
      "outputs": [],
      "source": [
        "# 1. Entrada de datos: Lista con información de perfiles (edad e ingresos).\n",
        "# Cada persona está representada como un diccionario.\n",
        "personas = [\n",
        "    {\"nombre\": \"Ana\", \"edad\": 17, \"ingresos\": 500},\n",
        "    {\"nombre\": \"Luis\", \"edad\": 25, \"ingresos\": 1200},\n",
        "    {\"nombre\": \"María\", \"edad\": 30, \"ingresos\": 800},\n",
        "    {\"nombre\": \"Juan\", \"edad\": 40, \"ingresos\": 1500},\n",
        "]"
      ]
    },
    {
      "cell_type": "code",
      "source": [
        "# 2. Inicio del proceso\n",
        "print(\"Clasificación de perfiles:\")\n",
        "print(\"--------------------------\")\n",
        "\n",
        "# 3. Recorremos la lista de personas usando un bucle \"for\".\n",
        "for persona in personas:\n",
        "    # Almacenamos los datos de la persona actual.\n",
        "    nombre = persona[\"nombre\"]\n",
        "    edad = persona[\"edad\"]\n",
        "    ingresos = persona[\"ingresos\"]\n",
        "\n",
        "    # 4. Condicional para clasificar según la edad y los ingresos.\n",
        "    if edad < 18:\n",
        "        clasificacion = \"Menor de edad\"\n",
        "    elif ingresos < 1000:\n",
        "        clasificacion = \"Adulto con ingresos bajos\"\n",
        "    else:\n",
        "        clasificacion = \"Adulto con ingresos altos\"\n",
        "\n",
        "    # 5. Mostramos el resultado para cada persona.\n",
        "    print(f\"{nombre}: {clasificacion}\")"
      ],
      "metadata": {
        "id": "ejxY90Edb1a4"
      },
      "execution_count": null,
      "outputs": []
    },
    {
      "cell_type": "code",
      "source": [
        "# 6. Fin del proceso\n",
        "print(\"--------------------------\")\n",
        "print(\"Análisis completado.\")\n"
      ],
      "metadata": {
        "id": "ptqH3gHEb5g0"
      },
      "execution_count": null,
      "outputs": []
    }
  ]
}