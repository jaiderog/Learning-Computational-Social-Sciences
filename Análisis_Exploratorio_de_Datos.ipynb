{
  "nbformat": 4,
  "nbformat_minor": 0,
  "metadata": {
    "colab": {
      "provenance": [],
      "include_colab_link": true
    },
    "kernelspec": {
      "name": "python3",
      "display_name": "Python 3"
    },
    "language_info": {
      "name": "python"
    }
  },
  "cells": [
    {
      "cell_type": "markdown",
      "metadata": {
        "id": "view-in-github",
        "colab_type": "text"
      },
      "source": [
        "<a href=\"https://colab.research.google.com/github/jaiderog/Learning-Computational-Social-Sciences/blob/master/An%C3%A1lisis_Exploratorio_de_Datos.ipynb\" target=\"_parent\"><img src=\"https://colab.research.google.com/assets/colab-badge.svg\" alt=\"Open In Colab\"/></a>"
      ]
    },
    {
      "cell_type": "markdown",
      "source": [
        "<p><img alt=\"Colaboratory logo\" height=\"140px\" src=\"https://upload.wikimedia.org/wikipedia/commons/archive/f/fb/20161010213812%21Escudo-UdeA.svg\" align=\"left\" hspace=\"10px\" vspace=\"0px\"></p>\n",
        "\n",
        "<h1> Recurso educativo: análisis exploratorio de datos</h1>\n",
        "\n",
        "<h2>Material preparado por: Juan Fernando Pérez</h2>\n",
        "\n",
        "Recuerden que lo más importante siempre será **¡prácticar, prácticar y prácticar!**\n"
      ],
      "metadata": {
        "id": "rU6OFjCK4grY"
      }
    },
    {
      "cell_type": "markdown",
      "source": [
        "# Librerías"
      ],
      "metadata": {
        "id": "mKw4Qwug9LX9"
      }
    },
    {
      "cell_type": "code",
      "source": [
        "from google.colab import drive\n",
        "drive.mount('/content/drive')"
      ],
      "metadata": {
        "id": "C0kvWvDhWKDT",
        "outputId": "f89fa783-3600-4b5a-a8ca-0f503ff062ea",
        "colab": {
          "base_uri": "https://localhost:8080/"
        }
      },
      "execution_count": null,
      "outputs": [
        {
          "output_type": "stream",
          "name": "stdout",
          "text": [
            "Mounted at /content/drive\n"
          ]
        }
      ]
    },
    {
      "cell_type": "code",
      "execution_count": null,
      "metadata": {
        "id": "jvHGFnHt89BW"
      },
      "outputs": [],
      "source": [
        "import pandas as pd\n",
        "import numpy as np\n",
        "import seaborn as sns\n",
        "import matplotlib.pyplot as plt\n",
        "%matplotlib inline"
      ]
    },
    {
      "cell_type": "markdown",
      "source": [
        "# Cargar datos"
      ],
      "metadata": {
        "id": "OYGJVNvt9NmO"
      }
    },
    {
      "cell_type": "code",
      "source": [
        "df = pd.read_csv(\"/content/drive/MyDrive/Colab Notebooks/Materia Gestión y análisis de datos/winequality-white.csv\",sep=\";\", encoding=\"utf-8-sig\")\n",
        "df.head() #\".head() \" devuelve las primeras cinco observaciones del conjunto de datos"
      ],
      "metadata": {
        "colab": {
          "base_uri": "https://localhost:8080/",
          "height": 214
        },
        "id": "yktmk-5p9SKq",
        "outputId": "0f2220aa-b801-48a7-e3ac-155807c1ca2d"
      },
      "execution_count": null,
      "outputs": [
        {
          "output_type": "execute_result",
          "data": {
            "text/html": [
              "\n",
              "  <div id=\"df-43cd9792-e152-43d7-979c-bfd1e2e442c2\">\n",
              "    <div class=\"colab-df-container\">\n",
              "      <div>\n",
              "<style scoped>\n",
              "    .dataframe tbody tr th:only-of-type {\n",
              "        vertical-align: middle;\n",
              "    }\n",
              "\n",
              "    .dataframe tbody tr th {\n",
              "        vertical-align: top;\n",
              "    }\n",
              "\n",
              "    .dataframe thead th {\n",
              "        text-align: right;\n",
              "    }\n",
              "</style>\n",
              "<table border=\"1\" class=\"dataframe\">\n",
              "  <thead>\n",
              "    <tr style=\"text-align: right;\">\n",
              "      <th></th>\n",
              "      <th>fixed acidity</th>\n",
              "      <th>volatile acidity</th>\n",
              "      <th>citric acid</th>\n",
              "      <th>residual sugar</th>\n",
              "      <th>chlorides</th>\n",
              "      <th>free sulfur dioxide</th>\n",
              "      <th>total sulfur dioxide</th>\n",
              "      <th>density</th>\n",
              "      <th>pH</th>\n",
              "      <th>sulphates</th>\n",
              "      <th>alcohol</th>\n",
              "      <th>quality</th>\n",
              "    </tr>\n",
              "  </thead>\n",
              "  <tbody>\n",
              "    <tr>\n",
              "      <th>0</th>\n",
              "      <td>7.0</td>\n",
              "      <td>0.27</td>\n",
              "      <td>0.36</td>\n",
              "      <td>20.7</td>\n",
              "      <td>0.045</td>\n",
              "      <td>45.0</td>\n",
              "      <td>170.0</td>\n",
              "      <td>1.0010</td>\n",
              "      <td>3.00</td>\n",
              "      <td>0.45</td>\n",
              "      <td>8.8</td>\n",
              "      <td>6</td>\n",
              "    </tr>\n",
              "    <tr>\n",
              "      <th>1</th>\n",
              "      <td>6.3</td>\n",
              "      <td>0.30</td>\n",
              "      <td>0.34</td>\n",
              "      <td>1.6</td>\n",
              "      <td>0.049</td>\n",
              "      <td>14.0</td>\n",
              "      <td>132.0</td>\n",
              "      <td>0.9940</td>\n",
              "      <td>3.30</td>\n",
              "      <td>0.49</td>\n",
              "      <td>9.5</td>\n",
              "      <td>6</td>\n",
              "    </tr>\n",
              "    <tr>\n",
              "      <th>2</th>\n",
              "      <td>8.1</td>\n",
              "      <td>0.28</td>\n",
              "      <td>0.40</td>\n",
              "      <td>6.9</td>\n",
              "      <td>0.050</td>\n",
              "      <td>30.0</td>\n",
              "      <td>97.0</td>\n",
              "      <td>0.9951</td>\n",
              "      <td>3.26</td>\n",
              "      <td>0.44</td>\n",
              "      <td>10.1</td>\n",
              "      <td>6</td>\n",
              "    </tr>\n",
              "    <tr>\n",
              "      <th>3</th>\n",
              "      <td>7.2</td>\n",
              "      <td>0.23</td>\n",
              "      <td>0.32</td>\n",
              "      <td>8.5</td>\n",
              "      <td>0.058</td>\n",
              "      <td>47.0</td>\n",
              "      <td>186.0</td>\n",
              "      <td>0.9956</td>\n",
              "      <td>3.19</td>\n",
              "      <td>0.40</td>\n",
              "      <td>9.9</td>\n",
              "      <td>6</td>\n",
              "    </tr>\n",
              "    <tr>\n",
              "      <th>4</th>\n",
              "      <td>7.2</td>\n",
              "      <td>0.23</td>\n",
              "      <td>0.32</td>\n",
              "      <td>8.5</td>\n",
              "      <td>0.058</td>\n",
              "      <td>47.0</td>\n",
              "      <td>186.0</td>\n",
              "      <td>0.9956</td>\n",
              "      <td>3.19</td>\n",
              "      <td>0.40</td>\n",
              "      <td>9.9</td>\n",
              "      <td>6</td>\n",
              "    </tr>\n",
              "  </tbody>\n",
              "</table>\n",
              "</div>\n",
              "      <button class=\"colab-df-convert\" onclick=\"convertToInteractive('df-43cd9792-e152-43d7-979c-bfd1e2e442c2')\"\n",
              "              title=\"Convert this dataframe to an interactive table.\"\n",
              "              style=\"display:none;\">\n",
              "        \n",
              "  <svg xmlns=\"http://www.w3.org/2000/svg\" height=\"24px\"viewBox=\"0 0 24 24\"\n",
              "       width=\"24px\">\n",
              "    <path d=\"M0 0h24v24H0V0z\" fill=\"none\"/>\n",
              "    <path d=\"M18.56 5.44l.94 2.06.94-2.06 2.06-.94-2.06-.94-.94-2.06-.94 2.06-2.06.94zm-11 1L8.5 8.5l.94-2.06 2.06-.94-2.06-.94L8.5 2.5l-.94 2.06-2.06.94zm10 10l.94 2.06.94-2.06 2.06-.94-2.06-.94-.94-2.06-.94 2.06-2.06.94z\"/><path d=\"M17.41 7.96l-1.37-1.37c-.4-.4-.92-.59-1.43-.59-.52 0-1.04.2-1.43.59L10.3 9.45l-7.72 7.72c-.78.78-.78 2.05 0 2.83L4 21.41c.39.39.9.59 1.41.59.51 0 1.02-.2 1.41-.59l7.78-7.78 2.81-2.81c.8-.78.8-2.07 0-2.86zM5.41 20L4 18.59l7.72-7.72 1.47 1.35L5.41 20z\"/>\n",
              "  </svg>\n",
              "      </button>\n",
              "      \n",
              "  <style>\n",
              "    .colab-df-container {\n",
              "      display:flex;\n",
              "      flex-wrap:wrap;\n",
              "      gap: 12px;\n",
              "    }\n",
              "\n",
              "    .colab-df-convert {\n",
              "      background-color: #E8F0FE;\n",
              "      border: none;\n",
              "      border-radius: 50%;\n",
              "      cursor: pointer;\n",
              "      display: none;\n",
              "      fill: #1967D2;\n",
              "      height: 32px;\n",
              "      padding: 0 0 0 0;\n",
              "      width: 32px;\n",
              "    }\n",
              "\n",
              "    .colab-df-convert:hover {\n",
              "      background-color: #E2EBFA;\n",
              "      box-shadow: 0px 1px 2px rgba(60, 64, 67, 0.3), 0px 1px 3px 1px rgba(60, 64, 67, 0.15);\n",
              "      fill: #174EA6;\n",
              "    }\n",
              "\n",
              "    [theme=dark] .colab-df-convert {\n",
              "      background-color: #3B4455;\n",
              "      fill: #D2E3FC;\n",
              "    }\n",
              "\n",
              "    [theme=dark] .colab-df-convert:hover {\n",
              "      background-color: #434B5C;\n",
              "      box-shadow: 0px 1px 3px 1px rgba(0, 0, 0, 0.15);\n",
              "      filter: drop-shadow(0px 1px 2px rgba(0, 0, 0, 0.3));\n",
              "      fill: #FFFFFF;\n",
              "    }\n",
              "  </style>\n",
              "\n",
              "      <script>\n",
              "        const buttonEl =\n",
              "          document.querySelector('#df-43cd9792-e152-43d7-979c-bfd1e2e442c2 button.colab-df-convert');\n",
              "        buttonEl.style.display =\n",
              "          google.colab.kernel.accessAllowed ? 'block' : 'none';\n",
              "\n",
              "        async function convertToInteractive(key) {\n",
              "          const element = document.querySelector('#df-43cd9792-e152-43d7-979c-bfd1e2e442c2');\n",
              "          const dataTable =\n",
              "            await google.colab.kernel.invokeFunction('convertToInteractive',\n",
              "                                                     [key], {});\n",
              "          if (!dataTable) return;\n",
              "\n",
              "          const docLinkHtml = 'Like what you see? Visit the ' +\n",
              "            '<a target=\"_blank\" href=https://colab.research.google.com/notebooks/data_table.ipynb>data table notebook</a>'\n",
              "            + ' to learn more about interactive tables.';\n",
              "          element.innerHTML = '';\n",
              "          dataTable['output_type'] = 'display_data';\n",
              "          await google.colab.output.renderOutput(dataTable, element);\n",
              "          const docLink = document.createElement('div');\n",
              "          docLink.innerHTML = docLinkHtml;\n",
              "          element.appendChild(docLink);\n",
              "        }\n",
              "      </script>\n",
              "    </div>\n",
              "  </div>\n",
              "  "
            ],
            "text/plain": [
              "   fixed acidity  volatile acidity  citric acid  ...  sulphates  alcohol  quality\n",
              "0            7.0              0.27         0.36  ...       0.45      8.8        6\n",
              "1            6.3              0.30         0.34  ...       0.49      9.5        6\n",
              "2            8.1              0.28         0.40  ...       0.44     10.1        6\n",
              "3            7.2              0.23         0.32  ...       0.40      9.9        6\n",
              "4            7.2              0.23         0.32  ...       0.40      9.9        6\n",
              "\n",
              "[5 rows x 12 columns]"
            ]
          },
          "metadata": {},
          "execution_count": 2
        }
      ]
    },
    {
      "cell_type": "code",
      "source": [
        "df.shape"
      ],
      "metadata": {
        "colab": {
          "base_uri": "https://localhost:8080/"
        },
        "id": "42JleyKc9f9H",
        "outputId": "05b387ee-3e33-4829-a1ff-f3f3ea9f73ac"
      },
      "execution_count": null,
      "outputs": [
        {
          "output_type": "execute_result",
          "data": {
            "text/plain": [
              "(4898, 12)"
            ]
          },
          "metadata": {},
          "execution_count": 3
        }
      ]
    },
    {
      "cell_type": "markdown",
      "source": [
        "El conjunto de datos consta de 4898 observaciones y 12 características"
      ],
      "metadata": {
        "id": "0_QBn9vw9j5u"
      }
    },
    {
      "cell_type": "code",
      "source": [
        "df.columns.values"
      ],
      "metadata": {
        "colab": {
          "base_uri": "https://localhost:8080/"
        },
        "id": "ayoMM37R9kj4",
        "outputId": "7631cf64-577a-4a50-85e7-2f902b2a76be"
      },
      "execution_count": null,
      "outputs": [
        {
          "output_type": "execute_result",
          "data": {
            "text/plain": [
              "array(['fixed acidity', 'volatile acidity', 'citric acid',\n",
              "       'residual sugar', 'chlorides', 'free sulfur dioxide',\n",
              "       'total sulfur dioxide', 'density', 'pH', 'sulphates', 'alcohol',\n",
              "       'quality'], dtype=object)"
            ]
          },
          "metadata": {},
          "execution_count": 4
        }
      ]
    },
    {
      "cell_type": "markdown",
      "source": [
        "Etiqueta de cada columna"
      ],
      "metadata": {
        "id": "ugY-ifgI9n61"
      }
    },
    {
      "cell_type": "code",
      "source": [
        "df.info()"
      ],
      "metadata": {
        "colab": {
          "base_uri": "https://localhost:8080/"
        },
        "id": "9zeg6Zxl9pnV",
        "outputId": "716c4ca1-1700-4fc4-968d-48effd1129e3"
      },
      "execution_count": null,
      "outputs": [
        {
          "output_type": "stream",
          "name": "stdout",
          "text": [
            "<class 'pandas.core.frame.DataFrame'>\n",
            "RangeIndex: 4898 entries, 0 to 4897\n",
            "Data columns (total 12 columns):\n",
            " #   Column                Non-Null Count  Dtype  \n",
            "---  ------                --------------  -----  \n",
            " 0   fixed acidity         4898 non-null   float64\n",
            " 1   volatile acidity      4898 non-null   float64\n",
            " 2   citric acid           4898 non-null   float64\n",
            " 3   residual sugar        4898 non-null   float64\n",
            " 4   chlorides             4898 non-null   float64\n",
            " 5   free sulfur dioxide   4898 non-null   float64\n",
            " 6   total sulfur dioxide  4898 non-null   float64\n",
            " 7   density               4898 non-null   float64\n",
            " 8   pH                    4898 non-null   float64\n",
            " 9   sulphates             4898 non-null   float64\n",
            " 10  alcohol               4898 non-null   float64\n",
            " 11  quality               4898 non-null   int64  \n",
            "dtypes: float64(11), int64(1)\n",
            "memory usage: 459.3 KB\n"
          ]
        }
      ]
    },
    {
      "cell_type": "markdown",
      "source": [
        "Los datos solo tienen valores flotantes y enteros\n",
        "\n",
        "Ninguna columna de variable tiene valores nulos/faltantes"
      ],
      "metadata": {
        "id": "gNWOMdfH9rw6"
      }
    },
    {
      "cell_type": "markdown",
      "source": [
        "# Estadísticas resumidas"
      ],
      "metadata": {
        "id": "sU6uo2FD9wwX"
      }
    },
    {
      "cell_type": "code",
      "source": [
        "df.describe() #método para encontrar las estadísticas de un conjunto de datos"
      ],
      "metadata": {
        "colab": {
          "base_uri": "https://localhost:8080/",
          "height": 294
        },
        "id": "uAlFDkod9uMy",
        "outputId": "98aa7c92-d6dc-4dbf-a2e6-fb9ceacec368"
      },
      "execution_count": null,
      "outputs": [
        {
          "output_type": "execute_result",
          "data": {
            "text/html": [
              "\n",
              "  <div id=\"df-9e1fbced-3274-483b-9a28-0aa09b02b438\">\n",
              "    <div class=\"colab-df-container\">\n",
              "      <div>\n",
              "<style scoped>\n",
              "    .dataframe tbody tr th:only-of-type {\n",
              "        vertical-align: middle;\n",
              "    }\n",
              "\n",
              "    .dataframe tbody tr th {\n",
              "        vertical-align: top;\n",
              "    }\n",
              "\n",
              "    .dataframe thead th {\n",
              "        text-align: right;\n",
              "    }\n",
              "</style>\n",
              "<table border=\"1\" class=\"dataframe\">\n",
              "  <thead>\n",
              "    <tr style=\"text-align: right;\">\n",
              "      <th></th>\n",
              "      <th>fixed acidity</th>\n",
              "      <th>volatile acidity</th>\n",
              "      <th>citric acid</th>\n",
              "      <th>residual sugar</th>\n",
              "      <th>chlorides</th>\n",
              "      <th>free sulfur dioxide</th>\n",
              "      <th>total sulfur dioxide</th>\n",
              "      <th>density</th>\n",
              "      <th>pH</th>\n",
              "      <th>sulphates</th>\n",
              "      <th>alcohol</th>\n",
              "      <th>quality</th>\n",
              "    </tr>\n",
              "  </thead>\n",
              "  <tbody>\n",
              "    <tr>\n",
              "      <th>count</th>\n",
              "      <td>4898.000000</td>\n",
              "      <td>4898.000000</td>\n",
              "      <td>4898.000000</td>\n",
              "      <td>4898.000000</td>\n",
              "      <td>4898.000000</td>\n",
              "      <td>4898.000000</td>\n",
              "      <td>4898.000000</td>\n",
              "      <td>4898.000000</td>\n",
              "      <td>4898.000000</td>\n",
              "      <td>4898.000000</td>\n",
              "      <td>4898.000000</td>\n",
              "      <td>4898.000000</td>\n",
              "    </tr>\n",
              "    <tr>\n",
              "      <th>mean</th>\n",
              "      <td>6.854788</td>\n",
              "      <td>0.278241</td>\n",
              "      <td>0.334192</td>\n",
              "      <td>6.391415</td>\n",
              "      <td>0.045772</td>\n",
              "      <td>35.308085</td>\n",
              "      <td>138.360657</td>\n",
              "      <td>0.994027</td>\n",
              "      <td>3.188267</td>\n",
              "      <td>0.489847</td>\n",
              "      <td>10.514267</td>\n",
              "      <td>5.877909</td>\n",
              "    </tr>\n",
              "    <tr>\n",
              "      <th>std</th>\n",
              "      <td>0.843868</td>\n",
              "      <td>0.100795</td>\n",
              "      <td>0.121020</td>\n",
              "      <td>5.072058</td>\n",
              "      <td>0.021848</td>\n",
              "      <td>17.007137</td>\n",
              "      <td>42.498065</td>\n",
              "      <td>0.002991</td>\n",
              "      <td>0.151001</td>\n",
              "      <td>0.114126</td>\n",
              "      <td>1.230621</td>\n",
              "      <td>0.885639</td>\n",
              "    </tr>\n",
              "    <tr>\n",
              "      <th>min</th>\n",
              "      <td>3.800000</td>\n",
              "      <td>0.080000</td>\n",
              "      <td>0.000000</td>\n",
              "      <td>0.600000</td>\n",
              "      <td>0.009000</td>\n",
              "      <td>2.000000</td>\n",
              "      <td>9.000000</td>\n",
              "      <td>0.987110</td>\n",
              "      <td>2.720000</td>\n",
              "      <td>0.220000</td>\n",
              "      <td>8.000000</td>\n",
              "      <td>3.000000</td>\n",
              "    </tr>\n",
              "    <tr>\n",
              "      <th>25%</th>\n",
              "      <td>6.300000</td>\n",
              "      <td>0.210000</td>\n",
              "      <td>0.270000</td>\n",
              "      <td>1.700000</td>\n",
              "      <td>0.036000</td>\n",
              "      <td>23.000000</td>\n",
              "      <td>108.000000</td>\n",
              "      <td>0.991723</td>\n",
              "      <td>3.090000</td>\n",
              "      <td>0.410000</td>\n",
              "      <td>9.500000</td>\n",
              "      <td>5.000000</td>\n",
              "    </tr>\n",
              "    <tr>\n",
              "      <th>50%</th>\n",
              "      <td>6.800000</td>\n",
              "      <td>0.260000</td>\n",
              "      <td>0.320000</td>\n",
              "      <td>5.200000</td>\n",
              "      <td>0.043000</td>\n",
              "      <td>34.000000</td>\n",
              "      <td>134.000000</td>\n",
              "      <td>0.993740</td>\n",
              "      <td>3.180000</td>\n",
              "      <td>0.470000</td>\n",
              "      <td>10.400000</td>\n",
              "      <td>6.000000</td>\n",
              "    </tr>\n",
              "    <tr>\n",
              "      <th>75%</th>\n",
              "      <td>7.300000</td>\n",
              "      <td>0.320000</td>\n",
              "      <td>0.390000</td>\n",
              "      <td>9.900000</td>\n",
              "      <td>0.050000</td>\n",
              "      <td>46.000000</td>\n",
              "      <td>167.000000</td>\n",
              "      <td>0.996100</td>\n",
              "      <td>3.280000</td>\n",
              "      <td>0.550000</td>\n",
              "      <td>11.400000</td>\n",
              "      <td>6.000000</td>\n",
              "    </tr>\n",
              "    <tr>\n",
              "      <th>max</th>\n",
              "      <td>14.200000</td>\n",
              "      <td>1.100000</td>\n",
              "      <td>1.660000</td>\n",
              "      <td>65.800000</td>\n",
              "      <td>0.346000</td>\n",
              "      <td>289.000000</td>\n",
              "      <td>440.000000</td>\n",
              "      <td>1.038980</td>\n",
              "      <td>3.820000</td>\n",
              "      <td>1.080000</td>\n",
              "      <td>14.200000</td>\n",
              "      <td>9.000000</td>\n",
              "    </tr>\n",
              "  </tbody>\n",
              "</table>\n",
              "</div>\n",
              "      <button class=\"colab-df-convert\" onclick=\"convertToInteractive('df-9e1fbced-3274-483b-9a28-0aa09b02b438')\"\n",
              "              title=\"Convert this dataframe to an interactive table.\"\n",
              "              style=\"display:none;\">\n",
              "        \n",
              "  <svg xmlns=\"http://www.w3.org/2000/svg\" height=\"24px\"viewBox=\"0 0 24 24\"\n",
              "       width=\"24px\">\n",
              "    <path d=\"M0 0h24v24H0V0z\" fill=\"none\"/>\n",
              "    <path d=\"M18.56 5.44l.94 2.06.94-2.06 2.06-.94-2.06-.94-.94-2.06-.94 2.06-2.06.94zm-11 1L8.5 8.5l.94-2.06 2.06-.94-2.06-.94L8.5 2.5l-.94 2.06-2.06.94zm10 10l.94 2.06.94-2.06 2.06-.94-2.06-.94-.94-2.06-.94 2.06-2.06.94z\"/><path d=\"M17.41 7.96l-1.37-1.37c-.4-.4-.92-.59-1.43-.59-.52 0-1.04.2-1.43.59L10.3 9.45l-7.72 7.72c-.78.78-.78 2.05 0 2.83L4 21.41c.39.39.9.59 1.41.59.51 0 1.02-.2 1.41-.59l7.78-7.78 2.81-2.81c.8-.78.8-2.07 0-2.86zM5.41 20L4 18.59l7.72-7.72 1.47 1.35L5.41 20z\"/>\n",
              "  </svg>\n",
              "      </button>\n",
              "      \n",
              "  <style>\n",
              "    .colab-df-container {\n",
              "      display:flex;\n",
              "      flex-wrap:wrap;\n",
              "      gap: 12px;\n",
              "    }\n",
              "\n",
              "    .colab-df-convert {\n",
              "      background-color: #E8F0FE;\n",
              "      border: none;\n",
              "      border-radius: 50%;\n",
              "      cursor: pointer;\n",
              "      display: none;\n",
              "      fill: #1967D2;\n",
              "      height: 32px;\n",
              "      padding: 0 0 0 0;\n",
              "      width: 32px;\n",
              "    }\n",
              "\n",
              "    .colab-df-convert:hover {\n",
              "      background-color: #E2EBFA;\n",
              "      box-shadow: 0px 1px 2px rgba(60, 64, 67, 0.3), 0px 1px 3px 1px rgba(60, 64, 67, 0.15);\n",
              "      fill: #174EA6;\n",
              "    }\n",
              "\n",
              "    [theme=dark] .colab-df-convert {\n",
              "      background-color: #3B4455;\n",
              "      fill: #D2E3FC;\n",
              "    }\n",
              "\n",
              "    [theme=dark] .colab-df-convert:hover {\n",
              "      background-color: #434B5C;\n",
              "      box-shadow: 0px 1px 3px 1px rgba(0, 0, 0, 0.15);\n",
              "      filter: drop-shadow(0px 1px 2px rgba(0, 0, 0, 0.3));\n",
              "      fill: #FFFFFF;\n",
              "    }\n",
              "  </style>\n",
              "\n",
              "      <script>\n",
              "        const buttonEl =\n",
              "          document.querySelector('#df-9e1fbced-3274-483b-9a28-0aa09b02b438 button.colab-df-convert');\n",
              "        buttonEl.style.display =\n",
              "          google.colab.kernel.accessAllowed ? 'block' : 'none';\n",
              "\n",
              "        async function convertToInteractive(key) {\n",
              "          const element = document.querySelector('#df-9e1fbced-3274-483b-9a28-0aa09b02b438');\n",
              "          const dataTable =\n",
              "            await google.colab.kernel.invokeFunction('convertToInteractive',\n",
              "                                                     [key], {});\n",
              "          if (!dataTable) return;\n",
              "\n",
              "          const docLinkHtml = 'Like what you see? Visit the ' +\n",
              "            '<a target=\"_blank\" href=https://colab.research.google.com/notebooks/data_table.ipynb>data table notebook</a>'\n",
              "            + ' to learn more about interactive tables.';\n",
              "          element.innerHTML = '';\n",
              "          dataTable['output_type'] = 'display_data';\n",
              "          await google.colab.output.renderOutput(dataTable, element);\n",
              "          const docLink = document.createElement('div');\n",
              "          docLink.innerHTML = docLinkHtml;\n",
              "          element.appendChild(docLink);\n",
              "        }\n",
              "      </script>\n",
              "    </div>\n",
              "  </div>\n",
              "  "
            ],
            "text/plain": [
              "       fixed acidity  volatile acidity  ...      alcohol      quality\n",
              "count    4898.000000       4898.000000  ...  4898.000000  4898.000000\n",
              "mean        6.854788          0.278241  ...    10.514267     5.877909\n",
              "std         0.843868          0.100795  ...     1.230621     0.885639\n",
              "min         3.800000          0.080000  ...     8.000000     3.000000\n",
              "25%         6.300000          0.210000  ...     9.500000     5.000000\n",
              "50%         6.800000          0.260000  ...    10.400000     6.000000\n",
              "75%         7.300000          0.320000  ...    11.400000     6.000000\n",
              "max        14.200000          1.100000  ...    14.200000     9.000000\n",
              "\n",
              "[8 rows x 12 columns]"
            ]
          },
          "metadata": {},
          "execution_count": 6
        }
      ]
    },
    {
      "cell_type": "markdown",
      "source": [
        "\n",
        "\n",
        "1.   El valor medio es menor que el valor medio de cada columna representado por el 50 % (percentil 50) en la columna de índice.\n",
        "2.   Diferencia notablemente grande en el porcentaje 75 y los valores máximos de los predictores \"azúcar residual\", \"dióxido de azufre libre\", \"dióxido de azufre total\".\n",
        "3.   Por lo tanto, las observaciones 1 y 2 sugieren que hay valores extremos: valores atípicos en nuestro conjunto de datos\n",
        "\n"
      ],
      "metadata": {
        "id": "aRgkNPs190sy"
      }
    },
    {
      "cell_type": "markdown",
      "source": [
        "# Comprender la variable objetivo"
      ],
      "metadata": {
        "id": "pGxUk-36_dM4"
      }
    },
    {
      "cell_type": "code",
      "source": [
        "df.quality.value_counts()"
      ],
      "metadata": {
        "colab": {
          "base_uri": "https://localhost:8080/"
        },
        "id": "PutWG_CX97Lw",
        "outputId": "3b6418b9-ad24-42a2-af49-5beb16a86302"
      },
      "execution_count": null,
      "outputs": [
        {
          "output_type": "execute_result",
          "data": {
            "text/plain": [
              "6    2198\n",
              "5    1457\n",
              "7     880\n",
              "8     175\n",
              "4     163\n",
              "3      20\n",
              "9       5\n",
              "Name: quality, dtype: int64"
            ]
          },
          "metadata": {},
          "execution_count": 7
        }
      ]
    },
    {
      "cell_type": "markdown",
      "source": [
        "\n",
        "\n",
        "1.   Esto nos dice el recuento de cada puntaje de calidad en orden descendente.\n",
        "2.   \"calidad\" tiene la mayoría de los valores concentrados en las categorías 5, 6 y 7.\n",
        "3.   Sólo unas pocas observaciones hechas para las categorías 3 y 9\n",
        "\n"
      ],
      "metadata": {
        "id": "o2FBY5Op_j7M"
      }
    },
    {
      "cell_type": "markdown",
      "source": [
        "# Visualización de datos"
      ],
      "metadata": {
        "id": "lZRkQNtw_rHd"
      }
    },
    {
      "cell_type": "code",
      "source": [
        "#Matriz de correlación de calidad\n",
        "k = 12 #número de variables para el mapa de calor\n",
        "cols = df.corr().nlargest(k, 'quality')['quality'].index\n",
        "cm = df[cols].corr()\n",
        "plt.figure(figsize=(10,6))\n",
        "sns.heatmap(cm, annot=True, cmap = 'viridis')"
      ],
      "metadata": {
        "colab": {
          "base_uri": "https://localhost:8080/",
          "height": 480
        },
        "id": "7rkl9toH_tj1",
        "outputId": "5852d3c0-f0d0-4ba0-cda4-8b14bf6bbf67"
      },
      "execution_count": null,
      "outputs": [
        {
          "output_type": "execute_result",
          "data": {
            "text/plain": [
              "<matplotlib.axes._subplots.AxesSubplot at 0x7f9ac266d790>"
            ]
          },
          "metadata": {},
          "execution_count": 8
        },
        {
          "output_type": "display_data",
          "data": {
            "image/png": "[encoded data removed]",
            "text/plain": [
              "<Figure size 720x432 with 2 Axes>"
            ]
          },
          "metadata": {
            "needs_background": "light"
          }
        }
      ]
    },
    {
      "cell_type": "markdown",
      "source": [
        "# Para comprobar valores atípicos"
      ],
      "metadata": {
        "id": "4G1opLYRAXDf"
      }
    },
    {
      "cell_type": "markdown",
      "source": [
        "![0_GWZmD1Z7JuZDHlvC.png](data:image/png;base64,iVBORw0KGgoAAAANSUhEUgAAAMYAAAFmCAIAAAC5knJQAAAsx0lEQVR42uy94XGjzNL+7f3X/R226jmnnvMJNgJwBEIRCEcgHIFRBEYRCEWwKAKjCIwiWIjghghuiMBvPf692zVnkGTZlu1db18fXBIaZgbmomfoHvf11//8638vFIrz4f/pLVCcF18eHh70LijOhX/9+z9/veb8pmmyLCvL8uLiIo7jLMuCIPjA69lsNm3buq6bJInjOBy5uLiYz+cXFxe73a6qqtvb2+VyaZ4VRdHFxQU/yUEpzAc57vv+fD43a+DIuDNd1xVFkSSJ53kcWS6XURRNJpOXXd0wDI7jLJdLs5/PAtdi9mG32/m+f3FxURSFed9ehYeXoq5r13XNqlzXrev64SPQ930YhvDDfQQ9iR5BmSzLuF4OwoYoioqikJ8EcoQP0U+kaYpd51wazbJs3CWISPmHhwcevL0lT0Ge55z74iGrqsp13SzLXNetqoqDYRjyEKZpmiSJ67p9379mIP7nX//7ciuVZVnf9+aRvu+zLLu7u3t/+1QURf2IIAiGYQjD8EhP7u/v/2/K//IlSRKeeMtuHTrFhJx7eXlpWTjT/omFK8syjmPLoGLDdrtd3/d1XTOoRVFQvxiMrutgJE+CZWz4KjYGW2hZI56Buq4xmVVVTSaTYRh832/btixLSrZtW9f1i+0oeDmluMjxwd1u925Mcl2XqbYsyyiK+Ow4TpIkWJdzYTqdCpOY5uAKVDjSVhiGTdMEQVDXtVBqsVj0fR/HMWNfVVVRFHmee553eXmZpins+fHjh1wm0xN/udg4jnmKsizL87wsyyRJ7u7usixL01QKyLTLh81mU5Ylnbdo1zRN27bY3Y+h1CGYK4+3hu/777N6wzzIoPJAF0XRtm2e5zc3N4dOjOOYGyI1XFxc5Hne973jOJAJps5ms6Zp+r5v2xay7nY7xttxHNqFFqvVCrK2bTubzXzfL8uyrmup3ywglBKKJ0mSpun379/LsoS+8CmO47IsX7+Wejml6MH44IsXj69BGIZ5nrOAhdbytMnsbE3Tz8L4opj4Li8vWYMfGonZbHZ5edm2bRRF5qhT3lqM9n3vui7kk4XacWy32+wRvu/DzkPouu7i4iJ4xJcvX75//962LQ/kZrPhNessz+f/e81aarw8P+90czrSNHVdNwzD5XI5nU6rqqInGP/r6+vFYlEUhbmaGWP5E+O5e2lgvIbL8/y4Ka3rejabmQ/eer0ehqEoCtN6TSYTFss8IVY9ex8JyDqbzZ6cHCi52+0Wi0UURV3XYfm6rkvTFMO52+2GYfgwSgVBUFWVDBIW/qOcCJ7n1XXN0oQ3Gobw5uYmz3NWnUmSmM9xFEUyi/H6Vv1E27YcGf8ksxjnBkGQZVlVVeORgBnYM6lK3thZWuV5PplM5Dj2NcuyOI4ty8ezsdlshIJhGLIk7/v+6upKumQVMPmKPev7nomSscOi80aZZRnTrro6Fb+Qq1MDMoozQymlUEoplFLvAxbIT/rBX4ymaZbLJa/iv/4d2Gw2H9XVT0Kp9Xp9/E3+9cBRZPlNftk7gBv2Q3ry1yfgkxUCI+x1cXGBa1F8B/i42SAg2wcIkPm+H8ex+dKO00hibZvNhtiLuJdkRwAv9owfoXRqXi6XeINlM8K4TsLb4x0QuAxwXkhtFBtH9MIwrOt67KOXm2Ner1qpk0AIDODhrKoqTVMiFThsiqJgLojjmDFYLBZd1+E0orxlk8wPss1BCohTF3tQVVWSJL7vV1W1WCwoUBRFGIb4Fc1dEtRTPMKsc7vdEp5L05RqxZFGc1KAkDPHIZ91B4RP5vWqlToVVggMxHE8m80wVHwg5I5hwNEPjQh1mU5ajBxWrSgKibUdD9HTIrwhypZlmQTy4ji24nc4/c068TdOJhPc2eMm9kb0sF5YKSuiZ10vvfrlKDUMQ1mW+JetyeLJXz8cfd+LW7yqKs/zqqqCUn3fS+TfjL6dvniipHnJZiDvxPgdhQ81enpEb+/1/ooTX9M0vu+zdQQ73zTNib++A12eLEPUiFV2URRd10VRxGLLXMxOJpO6rptH1HW9d/hd122apus6MRhFUQzDsF6vJUglgbw4jo/H76R7/MRf13Xbth2GYbvdUuB4RG98B6zr/eUmvmEYoigy+933PfO64zjHf33ry4jjOE1TCYGZwTvzQxAEeZ7HccxE4HmefLUGSQLPVVXRf2vlWxRFmqbsFcGoyGcZPDZF5XnOrEqdfd+naeo4zvj98ebmpu/76XTK6icIgiRJiPfROvtSrq6uxntmrDtA5db1vtPDffoe0EM0L4riyV8/PZiPzCOv2YTN5rjf8T48b6PwIT8Hx4//+ukh5nD8zviyd9jX7678KPz1mrtmHj/+66fH2Osz3q5+OoIgeJ+3s7fAMza3sPvdWgOyhGQtdeTXC8WfgedtbsHFYq4oWdXCmOO/Kv4cPHsL3m/tl1K8g5XSXZ2Kj5v4FIpToJRSKKUUSimFUkqhUEoplFIKpZRCoZRSKKUUSimFQimlUEoplFIKpZRCoZRSKKUUSimFQimlUEoplFIKhVJKoZRSKKUUCqWUQiml+G3w1+e4jK7rSFtIvjmSq4ZhSFIGpBPl6zAMdV37vu95nnwmFdZkMjlUFTmopRKEppGRlbasc/eC8q8Uez0vyIh5tgQWnyYJHbmsHh4eJEmaiELDGFGuJilqGIYPDw8kFRYx2SNViXirJLkT/WpJ9kfi6EMJ7FA5l5T8L5AWPzE1XlmWeZ4/q1q5rrfNgsczd8an4fjj+0qQ3xKrw2d5BMkSXpYlecAcxyHh+NXVVVmWWZYFQWAqoB6q6njT8/n8UK5YTCPKfdyB9XqNoDcp0REVdhyHhLlylxgCzGHTNFVVScZsMZNi/Li9JM/hXH41jZB5umUs6QmWWwRF6cCzbOoxSona/bkQRdFrcsM9yVeGltTyZqJfROuLokC5mluJdILv+1YS/SNVHbkuytR1nabp3vKQWLhy8whJqE/C++vrayn//fv3zWZD8lbEtEkHR4ZgSZCPfDcZY9u27ftesiOLsDGilavVarvdSnZ/cvWmaSqpucm2ent7i82+v7/fbDaUR6b2xJnxXddSdV2LlPm5IPl6RUQfqQVJBI2afhAE5AqXhIVhGEKpvXdqb1VHKJXn+W63OyIyw2zLZ7kJPGBxHK9Wq67rTPXspmnoIdIP6IIgqIxSCALuUApuodTgeR5pQsW0UHK1WnErhD11XR/PXI22O6kMi6I4ogp+KqUkC/sRtI8wVVaPTxBvmoKSoSU7vjnrYQmgFx3oui7Pc/Q5ttutKTx8qKonDWSWZUduF6oKMlRmflhYyG1kxUaya5JaSxJs8573fU9JTGxVVSg7hI+wmvY8jyztFKP+vSXHg4vFPaXwSZSaP+L4+cvlkhvEA/Sxby48tfJSJo8jd59ZiblPRoJ04WMqjKvinpKMGnKYdzmKIjKhH5ol4zjOsmy9XlPtmKlhGEpK9PV6Tf70oigmk8nV1ZVVsqqq29tb0TlCr8ZxnMvLy70dSJIkz3Muh1XX9+/fx0IHzK2ygGaKnEwm2+32dJWKT+WXQkzG5AemfvKIm5sbxmm73bIq9zyPlcd4yTiuikU9+giwx7RtLE2OWClymZLO1HXdsiyt5P2O4+R5HkXR5eUlOXPTR8AnBjsMw8vLy9lsxgf0amRq48hkMkEAYrPZmIQWAXomxOl0yipThL55g0G/Xh7INE2n0ykWnbPG8vRndiLIYFiJ5BWfEigiHXciqPdccWY3kFJK8Qyc4qBSSinOjD+RUsMwPKnqxiL06aXoS0HNTdPI6lgp9RsDb8KT/ghTbfZc2G636/Va6v9AUWul1Em2Z7fb8dAjvmgZJCQbx6bCshZSiVCKX3e7nSmTTxNjM2N2w2ydg7wxST0IYUoBOc5nzm2a5u2MpVLqIJqmIYQSRRFbWTADIoV4fX2Nl9JUjRY3Ei7KYRguLy8laiEF8IUSXGN0qY3jpmuRKAolURwVc4jjqv0Jq93pdIpWO86kKIqIruBJLsvy69evv8sU+Un2SxFeldnq7u4O15/rujc3N4TP/v77b9z9hyopy5KQUdd1VnApyzIcm1VVEcahtm/fvlnFsiybz+cooVvT6zj6Ju1aMTuuyHGcq6srAttsm1Er9X7g0ccgYWMwAAwq+0MoeSRqJMUsHXNLv9qszWKexIbHOnLHO0/MzrRqBIKIt6BF+7usuj4JpcIw9H3/9vYWHV8oJerTvu8zv3RdZ9kVZhNGiznryRc92U3FhirrJ9mpB7cglrkI21shXE/T1AqlYX1//PgRRdEpAWyd+M6GLMtYNrFhiLequ7u76XS6Xq9vbm4In8lzL2cRY2cgUTa/vLw8vqVCgnFE6/Z2g+nMcRzXdQm9CXvMJTmQdmVngQD7RCu/C6U0xvdssDlJtiC3bauxvxfKZSsAQS4xKuOF1x8OpdRL8P37d70Jn9/VqVBKKZRSCoVSSqGUUiilFAqllEIppVBKKZRSCoVSSqGUUiilFAqllEIppVBKKRRKKYVSSqGUUiiUUgqllEIppVBKKRRKKYVSSqGUUiiUUgqllEIppVAopRRKKcVvik+SX2q32yFRR2LMoihIwStpFEnZ63neZrMx9ebIE2ylGbbOJWv0WD6FRilP4rK93eAn2kW/VH616pcKBbe3t8vlkl/lg/w67vY4fxqafX3fWz2RRodhIE8kNZOc/UkdxqZpyKq9J2Pb50isKPrpDw8PkoCVD+gUuq6LqDqfkUEX5XSRSAV1XZvnklrT0iiHdqSdlXr2doOvJPaUjIx760f/mK/0xJJ6t27yuNvjO+P7fpIkJJalM5JMm69JktR1HccxGSLl+HEgKdj3/Tix4uenFDeI3Knk2hdpfEZ072iZ55IV2CxAImERzieN8RFK0XqWZRQ7Xr9ZyZOUOn7bEeGVaknPT35lSTHKHYBJCFiO6+n7Pn8EHBKp0j9Uj6+u691ux6BK4ujdbrfdbs0M5kVRTH9Czi2KYrlcYpAsMVJU1Pmapil1HuoDutxJkvR9v91un6z/dOzttsDzPKYwpjMsGXK3YRiKEsR6vUZRIkmSvQLa0jc+YOAPdfj/1lJfvnx5/cjxELz49JfdUEuBfS9I++y6bp7nTPxI9YuuBsX2aoPXdS3m7RQpuiOUiqIIBpdlKQq2r6//FEnzYRiiKErTdDKZYKI8z+u6LgzD+Xx+e3vbNE2SJJhwSed/d3cnS0Z5foqi2O12dPVQh3+V5Tny9q/EMAyO41iyCOPRiqJo3FwURWPhBjR9wzBEtlqO85hyr0m2bubRt7qx3W77vi8fAb0ke+yh+p/1KB5XKW+aBqVua8XteZ70MAgCFuno59zf3y+XS6GOKU5ximj2J3nj464hw4IKNC9Qp9dgvmqZz73neajBJEkitxjB6vgRrFKTJHEcZ283rq+vXdf9559/RLfIFDTfW/8pnYRJVrfHNSAx7/v+brcjS3uaprDH1KXJ8xzxdwS0+76XHk4mk7qukd2q6/pJdf9PspYKggBxH6w3N5o3O+vBQo5h77Rb/UTbtua5Nzc3KJhbo5umadu2YRimaYqw+95usHaRfvJudaR+ay4z3wHNTu7t9thEMdXKK95kMknTNMsyVtxi3du2ZTqmpKVhXFWV1IC4zZHZ9svDw8NZ1lKvBO8vvy+6rtOc+hcXF//693+UUoozU0oDMoozQymlUEo9tabBg7fXxfB27Z5eOSWP9PP0SqwY3+4RL67ziJ7qH00pQhDj4+v1Wl5wzg58PycW5vXtUD9PwdXVFRGh8wrEn6u2z6N0RRhfAiwS6sf7gpuRaDGR+bEXh1N4+WcLQBiGfd/P53Mql1PMyj3Py/O8bdvNZmOVRFO57/swDDlxs9n0fc+eAtkUYO0R8H1/Pp9zLuQzA/673a6u66IouFKrY4B6ZJ+FPFQ4z5qmwWXAuQSzcQ1wbhRFnudh8NiqIBcrxT6/ldput+ihY4q6roM9+KbZhgAkSpUkianxL6cURcHzSpAVz2SWZURvttutVTm1ua47LgkbaFe8YqY/SZxnFxcXi8UCcqB6yrlmATFytCVSojhdoWBVVZvNhvhPlmXm3CrBH6K/csekIVAUBf4t0/vFNooTg2afhFLwYDKZwAbP83D9YSQcx2FcOY4rsn+E1EAsYjabmfPj7e1tEASYBEwggUKzcqHUuCTjMZvNxMbgP8SiRFE0n89vbm4YwtVqhYgt6tnjAsDzPCiFwVitVrjypYzruvUjrG1POPrNKy2KAo3uI8reTdP0fY8a+fHQ+GejlAQQ+IshcV3XkgpmnNgKZ/nQpYaxbWfmQnE/z/MjlVsln3UJi8WCaff0ZdlezGYzYkRRFC0WC/N4VVVN00RR5DjOdrtNkgRr/eSNZUdQURRPRmM+D6VEbJ2/3Ij5fG4qpPMsEuTiUbZqKIpiGAaktq2fCGWIZTpUuVXyWa+HTEASe37yETr002azybLs9vY2yzIrRIP4NpRlaxQ8M8twZ4Zh4DjXgl088SH5JJS6ubkJw3A6nRLCI5TGFqI4jodhiOO4ruvNZlMUBVOA9XQGQYCCvoyWLB2k8qqqkiQZV866arFYWCUZCauraZqyZU9+oqEsy4qiIH7M2sUqIMAEYm9kiSbrxfl8Ln2wXiqpGUqxeevq6sqKIRLIg3my3ZRY+InL818lEvLh0uHwiR2Ye3c2KlSB/XngqZ1Op77vv9hjpNCdCIozQ8PGivNDKaVQSimUUgqllEKhlFIopRRKKYVCKaVQSimUUgqFUkqhlFIopRRKKYVCKaVQSimUUgqFUkqhlFIopRQKpZRCKaVQSikUSimFUkqhlFIopRQKpZRCKaVQSv0uWC6XX758uby8JG3hl0eQWv7Lf0MKg2/fviHjyUFqkxok5TD1iDLndDrdm3i+6zqpmUypm83m6yNI7rvdbq8eIdWa6TQP4fr6+vLy0sx/LFe9txtN05japGNMp9PXJN3/U6wUephkY5ak0CDPc1NzDPCV/Kdd15nlybxLwmrzeFVVx0cCPVLywZE2OE1TGiJXbJ7nd3d3YRhSz4lSq0VR/Pjx47g4qtV/KxOphfv7+9eIoB7HX+TQPSVT7NvhSDLTZ1HKTC2/N5Odqc3HPSW/pZUCldyKVLJareR4kiRZlh0ROK3r2nXd6XSKmOdutyNxKATd7XamgOJ6vY7jeJz9EllYkmeuVivM2HQ6lXYp4Lpu3/ck3iRnOl9Fn5gbQs5WBNOlrel0iiQfhPZ9X2Rnz0OpE7PYvh3O1TrSvEjUm5SSbNJjCVoykpuZd1GWzvOcbPRN04h5yLIM+c0jzwZJqhmqce55EVBEebEsS5QaTJtB5yeTyXQ63Ww2q9Uqz3Oz26R/pQCzre/7P3784MNqtYKR8/l8uVxKOvy6ri3LhFLofD5fr9dn1BP8VXJ1LhaL47b6EEy57CiKyrKsqspKp/wsMWpmvaIo5IMYKs/zMFSHzpWSUGdMqSAIKHN9fY3+LBqepPmnTNu2kmt/LASKLZQC9Kpt28vLS2u6FwFS7NneW8flkOH4nFaq7/uPtVJ1XZvzy2usFDbg9AeO5a0oF4gAv+SzL8vS7BvDf0j9QkwOUjBhGJJD3FIFFnmWLMuCIEBbQfrs+z42Ax2YvVO8FMBqVlX148ePYRgsZpDT1nEcXlzGtx3ZXMzecdnt51GqaRp5l/kojJUOXgBGZTzY5hF5eOT9jnGFUsx6aZpyf5FnMV+1MFSHUg6jy8CLQl3XjuOQHd/S9MmyTGSS1uu1LN7lVwS367rem71eCtBVtJOWy6WYedd1EXrgGUOxY+/KEsXvtm3PKJr1STIKd13X930QBE3TYKVYGvMsmiUZALnFMuN0XYdVwJzI8CNcjmYB080wDLxU7rWF/GrWACNldkabWr6iaG0t0umMTNamvr55vdgkz/NodDKZSG10W+4DE590WIrJVZ+UI/8EqLax4szQJNUKdXUqlFIKpdQfhycjYmOnw6Hg2uk17HY76y37NXG3cW1KqY/EkxEx6wX+lc0dquFN425KqWdjGIapgd1u9+3bNwIaTdNcPoJgmZT89u0bvxaPGJdcLpd8laCyhNsgIpVg4TabDYWn0+kwDJxrFhjX0LYtBbBbdHu73VKP7Fagz1+/fuXz1dXVdrulq5xuus3k5V1s3mKxoEKKvca+/mZv76+UgSOs8fDwQBgEdWF+wjf98PCAi7KqqrIsHx4ecAZyCudaJbMsS5LEaoiuyk8i3odHkRgfmohWAasG6SEeo4eHB7pNrBp9QDoD8O/ji6LzdV3TVUQZaUXuJLWhZPnw8ICfXfX4noG6riVSi39cAl51XZsCoexmIW4zrsSSEh1HzayfpJJxNM0qcKgGy8d4KO4mISMiRVwFzR3pZF3XVVVhFI8UOy8+CaV838fdPI48INnoeR7zV57n7OXYbrdWuMMq+Syhx+PRtGc9G3vjbnEc88xAKazybDY7tIMPZkP079+/S2BR11Knglu8XC7Hi1+eeAK6YsbMkuwl2u12Vsm9cF137ygSTbu+vt4bTTulBvkV6W9k4uU4e9qqqprNZjRXFMVisZBot3Tj6upqsViIfHdd14vF4urqipKbR+ha6mmwtmD1gOQ1Sw0gyunylV+rquJIVVUsXMyS7SOshiggP5kNcWJrwCpgdcY88eHhoa5radfsrXmiWVVd123bUo9VGyWlhqqq5FcixG+6lvoklMrzPAzDLMt4lFW2+hDk4Xk7Sn2esPHZg+qKF0B3IijOTyn1niv0je85GDuLrVAa0bEXxMiapvn27dved7dDVv9lbuthGNbrtVLqV8HtI96iZhzTz9oy/7L4IJ4qpdQHWKOrqysJmU2n069fv3ZdJ1aKGNx0OsVvJJE+a5itMJ8JM1hmRgatAhKbs6J+Et2zgowcnE6nl5eXRAOtPqRpim/ptxmMz+FEkJhamqbyIfsJQmPE4FzX5d8HrJggMTIrzGf6vSggsTmJDAKJ5REOGkf9zOieGWTkP55xLNHiOChpRQl/ZXyeGJ8ZUyM0ZgbIzP8vkP9xsGKCUtIK84G2bXGp7435yL+uyz8xH/kfOivIOJlMoiiiME0f6sPvgr/+hHcQIoBCjiMxQSvMZx6HeV3X7Y0EmwU4cijqZwUZu64Lw/Cff/7Z7XZYI6sPT0Z4lFIfAM/zCH5JPDVNU/5/rSgKM0RPmI9/ITetF3E3Ug/s/d86KSC7+cb/Q0d0L47jNE2XyyXhYc/z8jwnfoJxsvrA/3ttNpv5fK5rqfdbS0lMzfpgxukIiknwi/+xHsfIDoXYrGjG3gggJ5qhQ4n6Sc2HgoxHgpL8o+nvspZS77ninFDvuUL9UgqllEIppVAopRRKKYVSSqFQSimUUgqllEKhlFIopRRKKYVSSqFQSimUUgqllEKhlFIopRRKKYVCKaVQSimUUgqFUkqhlFIopRRKKYVCKaVQSimUUgqFUkqhlFIopRQKpZTiXfFJ0r/udruqqsZCDJvNpm1bRDgdxzGL8TlJEnL3ShZy8/Tb21uKyRHKH2+FIxcXFyRstfpGav80TSlJ01JVFEWTyYQK5SAprIuiID8sH6QbVg10e3yLKGZ1klZotGkaJCeouWmavu+fFIXfbrd1Xf9Xi58mlb5VCTnsuV8kQ0cD8uLigqSraHLmeS6n82sYhtFPyE98pR4zM+zeVlCrlvz3Zt/IN+y6ruTpNxsltzGZ/qXCKIrSNJWem5cwrsFs10qP67ouOgNyCWQvRm2bPpPeXQS69+bANVHXNdm5P6HE45hSpJJmgNGU5h4JjRitOI65fWgoWKNl1YyWi1lgbytHKJWmqe/7SZJQTAhBnXRPRB/MSp6k1HFhS040xdlhA1mW5bj8RYB+LzWzLJPnIUkSsrT/iuoMLxZzPqTpiAJHEAQIAyOIgEJwXddN00iGcVNbgSmJZPlhGIrqELMVmcoxS0daOdJbyiPEMAyD9JwU59iwI8rKR7C32wKZv5qmQQizLMu+7xGoyfN8Pp+7rrvZbFzXHYYhz/MfP36Mp84oivI8L8uyruvVasXNNG/I/7+WepkCE5Dnhjv1mnpedqLv+8+SCeUuMLTc6N1uJ3oeFGACMlPsc5mc+2JVUobT933GvixLyY4vclZVVT25fDl0XeNujzsQx3FZlo7jRFFU1zXryDAM5/P53d3dbre7u7tbLBbIAmB3ZZ1UFEUcx7PZjEkZSrmuyxP1X5R6pbyYUOqNZMpebL3yPBdLACE4zioV+4SGAseZd5IkGQ/q/f39druN47iqKlMlgdqGYaBOaUVkIMwPLKLlATYphQoItb2MUnu7bb1DZFlWlqXFAM/zpIcs0pFCybLs/v5+Op2aw8rDcPyh+lSCH6KhyJK2KAo0gLAxmAGsUVVVDHAcx7xGBUHA5GtKfZjyQLPZDK2OOI7lnkorvJEJbyh5fX3NShz6og5/d3d3cXGxXq/TNB2GwRzaLMtYQT/JKumk/4hxt63X0q7r6Grf97vdDjGtNE2ZxczLzLJsr6IJF8V18Xb8ySnFa7bcU9/3J5MJclbIsMiEEgQBdpubznyNaWHBjj6H3ERqFluCoNnNzY3wgFbatoU3LL0pAIlZYHVdx8JcamZFQqM8/Tc3N3CdrpprFLOY2cnwEeNuW5TCfApX8jyfTCYoyPm+L8eRRuJcHok0TaWSIAjyPOeecGnWyvKcr1rme8ofjjeVzP8tNGTUe35mjB2hGpBRKJRSCqXU26HrOlPC2oT5erXX1/pid6vUf6T1E2sYa/+/smNWbUqpZwMh0PHx9Xp96N3Y8tm+DFdXVwQ39rZ+CqSHr/E8j3He2k7B5/FLEfAX37HE53lvF6cU7sS+78V7PjYVcqLjOBLA583c+ipNo5+Ou4EIvziH+Or7/nw+77oO4poF6K3pNuNarB5STxiGs9nMJCL9xEU5m80419xxwLl4BzB4VGv1U63Uf2G73RK950EnGkWMgqCB/xOMGS5QIn0WzC0AwkIZbOuruMHw0OAAEzfSxcUFcsg4QtfrNUNoFhC3k/SQByAMwziOoWBVVZvNhiBSlmXm3CqRnDzP+76X+yANiWsUr5UYY2SYpRWl1B5vcpZlhBF4k0eHGIVgx3EYLY4z8P0jrHrYJITbEEez67plWfq+//fffzP25ldxHAiloiiaz+c3NzcM4Wq1IoxDhXDRLADMHnLWbDbDxy2cQ+HYDOOIy1Rc87PZTCLQ46uz7hh14t9XStno+x7PMn+xUuwQGhshPN173L4/68GlTqQFG1OW5devX7EZ5tcnO7ZYLJgQ8a2/GLPZjL0DURQtFgvzeFVVTdNEUeQ4zna7TZIEG/zkHeMysyx7svCfSCk09bH/woz5fC4S+xK+JbbFAzquZzKZsFtNwhdEPAjrsuHO/GoN0t7XBcb4lLX/EbtC0Pf29pbgj3XtRIFoLooieGaW4XqHYZDjcRzXdT2ZTMqytCpUSl0QHQvDcDqdMuRBEMRxPJ1OuXfDMHAHN5sNQVwrVmrGX6uqYh8Vy9uyLPmaZVkQBNZXOT1JkjzPWT6LOeSFqygK2U5pBsWsyKv00NxmI2us+XzOBUrA22xaNlYkSdL3/dXVlewRlW6wK5oIHRNfXdfT6dR13ZftfTgIjfEpNManUO+5QimlUCilFEophVJKoVBKKZRSCqWUQqGUUiilFEophVJKoVBKKZRSCqWUQqGUUiilFEophUIppVBKKZRSCoVSSqGUUiilFEophUIppVBKKZRSCoVSSqGUUiilFAqllEIppVBKKRRKKYVSSqGUei/sdrvlcilKGMtHdF3HcSkgCh97fx2f3nUdH+Q4GixSYHyuhdcLTR0X6Brfh1fqdZ0BnyNJNd1wXffh4UFy5JPBnGvkQxRFlN/76/h0Es9XVSVncZkUyPP84eFBlNz3duyVd7iu60M1H7oPHzsQnypJdRRFfd93XccwjAv4vl9V1aGH+MnTx+Uh34nlLYMq3cAQis0bhmG9XotBJT2/mMCmabbbLZ/X6/XwCMqb12XKAoqZtNr9mIlvuVx+eQqmlXqyMHIJb8oqtHsOUQox9JedvrfwMAxobJzYw+12m2UZyi3b7dZS5EL3HFmRKIq6rkOgQQQdRBWn67o8zx3H2SvcZcoCcr1Wu286Cu+qx4fCxHnrzPNchDfQ9a+q6pCaIxr2RwzV8dOtwlmWIWh2em+LosBYIqV/f39fVRXq/gjIoMLl+37bto7jQCm5QCS1mqapqooJl9MPCXcdatdU9Pu9KRWG4f39/ZtaqSzLUNvZW8DzvCOG6tDpDNV4mYwa1rMohb4UVsd1XaxUlmVpmmJXVqvVdrutqoojCHeZSJIECsrqMH7EXpWlQ+1+2MR3e3t73rXbm/IJnSrEzY6UQaDnxNMnkwlzzXK5xCqYGmhYtScptfuJruvQ5kNPC9NiKXJdX1+3bYuKHwJUlu1BU6mua0zXXuEu13Xbth2GQeY4q12WZc96l/xFrdTbwVyLiKonMlEMuRTwPA9W7f3VOp2ZJc9zypdlyUDyqzlOe9X9xPKJgbm5uen7fjqdMgE5joMiFxpUwzDkeZ6m6XQ6jaLo5uZmGAbf9xeLxWq1EkOLmpfMaHEcR1GEcBcqVkEQUGGSJFyg1S4LhiRJzqxx9Ygv8kqs+KMgasfnrfZf//6PUuoPRdd1Z+eTUkpx8RaU0hif4h3f+D6xzT8UkhPgdH59hG4M3rOoebPZnFdQXyn1MTCdy0d8DW/R9Hq95oXrjer/FfDXp7mS3W6Hl2gymeCPmc1mTdPUdT2fz4dhgEamSvZyuby9vTVff7quG3svN5uNuJ7n8zmWRvyQ1nuT2Y2u66qq4pTlcomXciyUjeHEwS2FwzDs+z6O46Io+GCqc//S+BwqzQRGGEtU6olpQIWHhweU+PM8l2LmNgEOUl7E2aVA9IiqqsIwLIrCrM3cp0A30O8Pw5A4ibn3oe/75BH4MM12KZ8+QrY81HWNr78sS7yXKpf9frBiWARewjCM43gymRBPvXnEkRmnLMs4jmez2TjGl2XZZDLBo23WZnk48zynZJZl40ocx0Gh33p7hzF1XbuuK2fd3t4GQUDIr+/7tm3f4p1f11IHIdH7JEkYFTarMOTEPU6phGKO45xSbG+8jCPPiqP1fY8fH6Nl/rRardI0reva9/233kGglPovWDGsYRjgVpZlwzCEYVjXddM0u93OtFJE9dkjRSVFUbAD6Uhbk8mE2tgRYHVDwh0EbaxY2zhmJ51n04H13jAO+eny/J1gxbBYD3GwLMv5fC57OFntYr2KoiColyQJe0jyPCdkxgpadiNhdYigyY5QcyeT1Y0oilj4W7G2OI7TNOVtQGqWdl3Xlf0FMpOaIb/fYizUe/5sNE3DZhJ2jNR1fXyi/KPwr3//5y+9C89FEARZlmFUiqJQPqmVUrytldIYn0Lf+BRKKYVSSqFQSimUUgqllEKhlFIopRRKKYVCKaVQSimUUgqllEKhlFIopRRKKYVCKaVQSimUUgqFUkqhlFIopRQKpZTil6YUCSf0VirAq/6BfbvdpmlKRpF3ECd5EpvNpm1b13WTJOH/ysnJSWo58tPd3t5aGTjJacFPclAK80GOk6jOrEFS11kwU+C9EsMwOI7zmkzlVpY9jpAqjbwjSZKcLX/VaxLPjWsry/JDkq9JMhZS8JABTBLYmZp9chA2oAMjP1kCf6aQH5AsdZxLo3sl8MwUeGeR5CP71MtuDrIlYRhKV9M0JcNbkiRIhrys8nEWvJdbqb3p5LIs+xBDVRQFumdBEJBQKsuyu7u7vYWRsvny5UuSJFimJzMHj9Vv5NzLy0vLwh2BmclTzGoYhtw06yswJfnIniXGBttDZzzP2+125MvjiJn/o6qqIAhIr0VX67pO0zTLMqqCUmfR/3g5pfZKK9V1/Z5CqCIsRq5OPjuOc1x37wUQzbckSRgDZsO+70V06pR1AlnUkLYi9xX5OcljZn6VGYp8a5IQi3PFcOZ5joX+559/qqoqioL0Wmmafv/+nRocx4FPoqc1DIPrup7nSTbbsixPkYx787XUXhzSkXoL+L7/Pnl2JYeYZC0j03Xbtnmen5hMzEooSsbEuq7LsvQ8b7vdml/lLFOSz0wZ6nmepeUH42ezmaQ+s+4VdCwfIVc0DAMT+rkkil5OqSRJxtnDZTp4Z5Dil2UstJb8dHK7jyggPonxRXGll5eXRVFYs8whWKJ4QRCQwBhNvdVqZX19csVtafkdWd23bRsEged5eZ7XdS05AUm/JtPfB1OK5MnmOO19ON4H3FZSJKL8ydsDiQyvr69JL2aq6Y0hK6pxXnJzsWXSi0bzPN/7IPV9L8sA0htXVXVzc7PZbJgxy7K8u7uDSZvNxvxq1bO3crT8nlSaEDVKGg3DUPITc39QUh2nOn5vSnmeh76g6UT4qJRwnuexpkE4T1aaTEmMkLXAiqJIZjFe32TKJpW0+VZozua3t7dyLhnxEPm0rp0XT2mR+dES42vblq9k0zO/mgYYST4rZWgQBJaWn1yOlUTUcRxZKpHymktrmgb6yv05i63SLHiKc0Kz4CnOD6WUQimlUEq9D0ydu7dA0zTL5VLk896uoRdfu+i8n/IOqJR6AqJz93bApSTiML+UoJ68652oNvim+Ayp9Luus3Tu8AYRMhKXLA4FKyZP0M33/TiOTS+Aqd/HLgCcOuMIphm2k80C4uahJ/zUtq0ZjEMbTVxBtOj7Pi/51GnWYEX0NpsN0XFOWS6XljvNugS1Us+A67r+T2A8cBSJMxpPD6qvcRwTNVssFl3Xoe5CecsmmR9km4PVNNt7CGgQUYHcIp5GDG6xWOBjjOOYTS/sCzBdi1Qurj6iPVxLVVX4yvFRSbwPNUrpGyXNCvGNjbutlHoCe3XuUNYjuDGbzYiL7VW+s4KsYuRQ3OMrIbZxFMwS4MMidl1HLG8YhqqqZrMZEqO0K5bDNHhmi+YsJiCix04EcaYTmNvbt6Zp2JXQtq3pxNeJ78wQ5Tuefom8Evz/8eOHafmsD0dspPwNgqDve5GyRWpGonvist+71jne4ukRPblSsU9iydRKPZsuT5axlO8YJ0yLqXZnKu7JxpJDFZoCfCLqhwIbMqQcrOt6MpkgkjuuZ6zxh1XDzpkRvb17iuSlz6yQDa6EIHV5/mxYOndm8M78YCnfEZnnq7UnR2L1VVWxtrVWJHzdK8DX973jOHCL2Q3hP4ox2ONLsDT+2FZVVRXdG0f0zNfPNE1R/TMDfFTY9/04/vim0BjfL4fpdMr67HfsvMb4fkWY5ud3xP8XAAD//7aO+5hEos/eAAAAAElFTkSuQmCC)"
      ],
      "metadata": {
        "id": "YuVskZZDFPmV"
      }
    },
    {
      "cell_type": "code",
      "source": [
        "l = df.columns.values\n",
        "number_of_columns=12\n",
        "number_of_rows = len(l)-1/number_of_columns\n",
        "plt.figure(figsize=(number_of_columns,5*number_of_rows))\n",
        "for i in range(0,len(l)):\n",
        "    plt.subplot(number_of_rows + 1,number_of_columns,i+1)\n",
        "    sns.set_style('whitegrid')\n",
        "    sns.boxplot(df[l[i]],color='green',orient='v')\n",
        "    plt.tight_layout()"
      ],
      "metadata": {
        "colab": {
          "base_uri": "https://localhost:8080/",
          "height": 1000
        },
        "id": "m5rHn0nmAXpt",
        "outputId": "e4edb3eb-a91e-4821-acb9-bf7d809acf11"
      },
      "execution_count": null,
      "outputs": [
        {
          "output_type": "stream",
          "name": "stderr",
          "text": [
            "/usr/local/lib/python3.7/dist-packages/seaborn/_decorators.py:43: FutureWarning: Pass the following variable as a keyword arg: x. From version 0.12, the only valid positional argument will be `data`, and passing other arguments without an explicit keyword will result in an error or misinterpretation.\n",
            "  FutureWarning\n",
            "/usr/local/lib/python3.7/dist-packages/seaborn/_core.py:1326: UserWarning: Vertical orientation ignored with only `x` specified.\n",
            "  warnings.warn(single_var_warning.format(\"Vertical\", \"x\"))\n",
            "/usr/local/lib/python3.7/dist-packages/seaborn/_decorators.py:43: FutureWarning: Pass the following variable as a keyword arg: x. From version 0.12, the only valid positional argument will be `data`, and passing other arguments without an explicit keyword will result in an error or misinterpretation.\n",
            "  FutureWarning\n",
            "/usr/local/lib/python3.7/dist-packages/seaborn/_core.py:1326: UserWarning: Vertical orientation ignored with only `x` specified.\n",
            "  warnings.warn(single_var_warning.format(\"Vertical\", \"x\"))\n",
            "/usr/local/lib/python3.7/dist-packages/seaborn/_decorators.py:43: FutureWarning: Pass the following variable as a keyword arg: x. From version 0.12, the only valid positional argument will be `data`, and passing other arguments without an explicit keyword will result in an error or misinterpretation.\n",
            "  FutureWarning\n",
            "/usr/local/lib/python3.7/dist-packages/seaborn/_core.py:1326: UserWarning: Vertical orientation ignored with only `x` specified.\n",
            "  warnings.warn(single_var_warning.format(\"Vertical\", \"x\"))\n",
            "/usr/local/lib/python3.7/dist-packages/seaborn/_decorators.py:43: FutureWarning: Pass the following variable as a keyword arg: x. From version 0.12, the only valid positional argument will be `data`, and passing other arguments without an explicit keyword will result in an error or misinterpretation.\n",
            "  FutureWarning\n",
            "/usr/local/lib/python3.7/dist-packages/seaborn/_core.py:1326: UserWarning: Vertical orientation ignored with only `x` specified.\n",
            "  warnings.warn(single_var_warning.format(\"Vertical\", \"x\"))\n",
            "/usr/local/lib/python3.7/dist-packages/seaborn/_decorators.py:43: FutureWarning: Pass the following variable as a keyword arg: x. From version 0.12, the only valid positional argument will be `data`, and passing other arguments without an explicit keyword will result in an error or misinterpretation.\n",
            "  FutureWarning\n",
            "/usr/local/lib/python3.7/dist-packages/seaborn/_core.py:1326: UserWarning: Vertical orientation ignored with only `x` specified.\n",
            "  warnings.warn(single_var_warning.format(\"Vertical\", \"x\"))\n",
            "/usr/local/lib/python3.7/dist-packages/seaborn/_decorators.py:43: FutureWarning: Pass the following variable as a keyword arg: x. From version 0.12, the only valid positional argument will be `data`, and passing other arguments without an explicit keyword will result in an error or misinterpretation.\n",
            "  FutureWarning\n",
            "/usr/local/lib/python3.7/dist-packages/seaborn/_core.py:1326: UserWarning: Vertical orientation ignored with only `x` specified.\n",
            "  warnings.warn(single_var_warning.format(\"Vertical\", \"x\"))\n",
            "/usr/local/lib/python3.7/dist-packages/seaborn/_decorators.py:43: FutureWarning: Pass the following variable as a keyword arg: x. From version 0.12, the only valid positional argument will be `data`, and passing other arguments without an explicit keyword will result in an error or misinterpretation.\n",
            "  FutureWarning\n",
            "/usr/local/lib/python3.7/dist-packages/seaborn/_core.py:1326: UserWarning: Vertical orientation ignored with only `x` specified.\n",
            "  warnings.warn(single_var_warning.format(\"Vertical\", \"x\"))\n",
            "/usr/local/lib/python3.7/dist-packages/ipykernel_launcher.py:9: UserWarning: Tight layout not applied. tight_layout cannot make axes width small enough to accommodate all axes decorations\n",
            "  if __name__ == '__main__':\n",
            "/usr/local/lib/python3.7/dist-packages/seaborn/_decorators.py:43: FutureWarning: Pass the following variable as a keyword arg: x. From version 0.12, the only valid positional argument will be `data`, and passing other arguments without an explicit keyword will result in an error or misinterpretation.\n",
            "  FutureWarning\n",
            "/usr/local/lib/python3.7/dist-packages/seaborn/_core.py:1326: UserWarning: Vertical orientation ignored with only `x` specified.\n",
            "  warnings.warn(single_var_warning.format(\"Vertical\", \"x\"))\n",
            "/usr/local/lib/python3.7/dist-packages/ipykernel_launcher.py:9: UserWarning: Tight layout not applied. tight_layout cannot make axes width small enough to accommodate all axes decorations\n",
            "  if __name__ == '__main__':\n",
            "/usr/local/lib/python3.7/dist-packages/seaborn/_decorators.py:43: FutureWarning: Pass the following variable as a keyword arg: x. From version 0.12, the only valid positional argument will be `data`, and passing other arguments without an explicit keyword will result in an error or misinterpretation.\n",
            "  FutureWarning\n",
            "/usr/local/lib/python3.7/dist-packages/seaborn/_core.py:1326: UserWarning: Vertical orientation ignored with only `x` specified.\n",
            "  warnings.warn(single_var_warning.format(\"Vertical\", \"x\"))\n",
            "/usr/local/lib/python3.7/dist-packages/ipykernel_launcher.py:9: UserWarning: Tight layout not applied. tight_layout cannot make axes width small enough to accommodate all axes decorations\n",
            "  if __name__ == '__main__':\n",
            "/usr/local/lib/python3.7/dist-packages/seaborn/_decorators.py:43: FutureWarning: Pass the following variable as a keyword arg: x. From version 0.12, the only valid positional argument will be `data`, and passing other arguments without an explicit keyword will result in an error or misinterpretation.\n",
            "  FutureWarning\n",
            "/usr/local/lib/python3.7/dist-packages/seaborn/_core.py:1326: UserWarning: Vertical orientation ignored with only `x` specified.\n",
            "  warnings.warn(single_var_warning.format(\"Vertical\", \"x\"))\n",
            "/usr/local/lib/python3.7/dist-packages/ipykernel_launcher.py:9: UserWarning: Tight layout not applied. tight_layout cannot make axes width small enough to accommodate all axes decorations\n",
            "  if __name__ == '__main__':\n",
            "/usr/local/lib/python3.7/dist-packages/seaborn/_decorators.py:43: FutureWarning: Pass the following variable as a keyword arg: x. From version 0.12, the only valid positional argument will be `data`, and passing other arguments without an explicit keyword will result in an error or misinterpretation.\n",
            "  FutureWarning\n",
            "/usr/local/lib/python3.7/dist-packages/seaborn/_core.py:1326: UserWarning: Vertical orientation ignored with only `x` specified.\n",
            "  warnings.warn(single_var_warning.format(\"Vertical\", \"x\"))\n",
            "/usr/local/lib/python3.7/dist-packages/ipykernel_launcher.py:9: UserWarning: Tight layout not applied. tight_layout cannot make axes width small enough to accommodate all axes decorations\n",
            "  if __name__ == '__main__':\n",
            "/usr/local/lib/python3.7/dist-packages/seaborn/_decorators.py:43: FutureWarning: Pass the following variable as a keyword arg: x. From version 0.12, the only valid positional argument will be `data`, and passing other arguments without an explicit keyword will result in an error or misinterpretation.\n",
            "  FutureWarning\n",
            "/usr/local/lib/python3.7/dist-packages/seaborn/_core.py:1326: UserWarning: Vertical orientation ignored with only `x` specified.\n",
            "  warnings.warn(single_var_warning.format(\"Vertical\", \"x\"))\n",
            "/usr/local/lib/python3.7/dist-packages/ipykernel_launcher.py:9: UserWarning: Tight layout not applied. tight_layout cannot make axes width small enough to accommodate all axes decorations\n",
            "  if __name__ == '__main__':\n"
          ]
        },
        {
          "output_type": "display_data",
          "data": {
            "image/png": "[encoded data removed]",
            "text/plain": [
              "<Figure size 864x4290 with 12 Axes>"
            ]
          },
          "metadata": {
            "needs_background": "light"
          }
        }
      ]
    },
    {
      "cell_type": "markdown",
      "source": [
        "Excepto \"alcohol\", todas las demás columnas de características muestran valores atípicos"
      ],
      "metadata": {
        "id": "-u3Kbe5WAwtU"
      }
    }
  ]
}