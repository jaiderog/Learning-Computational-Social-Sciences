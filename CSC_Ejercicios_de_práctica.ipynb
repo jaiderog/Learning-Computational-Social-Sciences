{
  "nbformat": 4,
  "nbformat_minor": 0,
  "metadata": {
    "colab": {
      "provenance": [],
      "authorship_tag": "ABX9TyPp/OWMs+CTHxHhFic8dkwB",
      "include_colab_link": true
    },
    "kernelspec": {
      "name": "python3",
      "display_name": "Python 3"
    },
    "language_info": {
      "name": "python"
    }
  },
  "cells": [
    {
      "cell_type": "markdown",
      "metadata": {
        "id": "view-in-github",
        "colab_type": "text"
      },
      "source": [
        "<a href=\"https://colab.research.google.com/github/jaiderog/Learning-Computational-Social-Sciences/blob/master/CSC_Ejercicios_de_pr%C3%A1ctica.ipynb\" target=\"_parent\"><img src=\"https://colab.research.google.com/assets/colab-badge.svg\" alt=\"Open In Colab\"/></a>"
      ]
    },
    {
      "cell_type": "markdown",
      "source": [
        "<p><img alt=\"Colaboratory logo\" height=\"140px\" src=\"https://upload.wikimedia.org/wikipedia/commons/archive/f/fb/20161010213812%21Escudo-UdeA.svg\" align=\"left\" hspace=\"10px\" vspace=\"0px\"></p>\n",
        "\n",
        "<h1> Curso de Lógica Computacional EIB - Introducción a la programación</h1>\n",
        "\n",
        "<h2>Material preparado por: Jaider Ochoa-Gutiérrez</h2>\n",
        "\n",
        "¡Bienvenidos al curso de Lógica Computacional! Este será nuestro \"cuaderno de programación\" para ir siguiendo y realizando los ejercicios básicos que nos permitan desarrollar un pensamiento computacional.\n",
        "\n",
        "Recuerden que lo más importante siempre será **¡prácticar, prácticar y prácticar!**"
      ],
      "metadata": {
        "id": "CINHdCNjfDgo"
      }
    },
    {
      "cell_type": "markdown",
      "source": [
        "## **Clasificación por edad**"
      ],
      "metadata": {
        "id": "BAbU3CXhihdz"
      }
    },
    {
      "cell_type": "markdown",
      "source": [
        "\n",
        "Crea un programa que pregunte la edad de una persona y luego la clasifique en una de las siguientes categorías:\n",
        "*   Menor de 18 años: \"Menor de edad\".\n",
        "*   Entre 18 y 65 años: \"Adulto\".\n",
        "*   Mayor de 65 años: \"Adulto mayor\".\n",
        "\n"
      ],
      "metadata": {
        "id": "GNG2Ql5BfWuC"
      }
    },
    {
      "cell_type": "code",
      "execution_count": null,
      "metadata": {
        "id": "h4NRXGYcfBDk"
      },
      "outputs": [],
      "source": [
        "# Su solución"
      ]
    },
    {
      "cell_type": "markdown",
      "source": [
        "### Solución (Ver luego de resolverlo)"
      ],
      "metadata": {
        "id": "-kgYLB9YkYSd"
      }
    },
    {
      "cell_type": "code",
      "source": [
        "# Solicita al usuario que ingrese su edad\n",
        "edad = int(input(\"Ingrese su edad: \"))\n",
        "\n",
        "# Clasifica la edad en categorías\n",
        "if edad < 18:\n",
        "    print(\"Resultado: Eres Menor de edad.\")\n",
        "elif edad >=18 and edad <= 35:\n",
        "    print(\"Resultado: Eres un Joven adulto.\")\n",
        "else:\n",
        "    print(\"Resultado: Eres un Adulto mayor.\")\n"
      ],
      "metadata": {
        "colab": {
          "base_uri": "https://localhost:8080/"
        },
        "id": "mgZ_FREfkcp5",
        "outputId": "5e121de3-71dc-49a9-cec2-8ea7a7699d99"
      },
      "execution_count": 7,
      "outputs": [
        {
          "output_type": "stream",
          "name": "stdout",
          "text": [
            "Ingrese su edad: 36\n",
            "Resultado: Eres un Adulto mayor.\n"
          ]
        }
      ]
    },
    {
      "cell_type": "markdown",
      "source": [
        "## **Suma acumulada**"
      ],
      "metadata": {
        "id": "OZR70PrWipOd"
      }
    },
    {
      "cell_type": "markdown",
      "source": [
        "Dada una lista de números (Ej. [10,45,60,80,34,55]), calcula la suma acumulada. La suma acumulada es una nueva lista en la que cada elemento es la suma de todos los elementos previos más el elemento actual."
      ],
      "metadata": {
        "id": "gsl4K_Umf-lQ"
      }
    },
    {
      "cell_type": "code",
      "source": [
        "# Solución"
      ],
      "metadata": {
        "id": "fcyAJe1rhXHo"
      },
      "execution_count": 1,
      "outputs": []
    },
    {
      "cell_type": "markdown",
      "source": [
        "### Solución"
      ],
      "metadata": {
        "id": "O0ohfmwnmtdP"
      }
    },
    {
      "cell_type": "code",
      "source": [
        "# Define la lista de números\n",
        "numeros = [10, 20, 30, 40]\n",
        "\n",
        "# Crea una lista vacía para almacenar la suma acumulativa\n",
        "suma_acumulativa = []\n",
        "\n",
        "# Inicializa una variable acumuladora\n",
        "acumulador = 0\n",
        "\n",
        "# Recorre la lista de números\n",
        "for numero in numeros:\n",
        "    acumulador += numero  # Suma el número actual al acumulador\n",
        "    suma_acumulativa.append(acumulador)  # Agrega la suma acumulada a la lista\n",
        "\n",
        "# Muestra el resultado\n",
        "print(\"Lista original:\", numeros)\n",
        "print(\"Suma acumulativa:\", suma_acumulativa)\n"
      ],
      "metadata": {
        "id": "RScurLz3my2-"
      },
      "execution_count": null,
      "outputs": []
    },
    {
      "cell_type": "markdown",
      "source": [
        "## **Encuesta**"
      ],
      "metadata": {
        "id": "QXYgnQpsiu0I"
      }
    },
    {
      "cell_type": "markdown",
      "source": [
        "Tienes las respuestas de una encuesta sobre satisfacción ciudadana, con valores del 1 al 5 (1: muy insatisfecho, 5: muy satisfecho). El objetivo es contar cuántas personas dieron una puntuación de 4 o 5 (satisfecho o muy satisfecho)."
      ],
      "metadata": {
        "id": "sF4QUVUchY7Q"
      }
    },
    {
      "cell_type": "code",
      "source": [
        "# Solución"
      ],
      "metadata": {
        "id": "AVIA7y09ho07"
      },
      "execution_count": null,
      "outputs": []
    },
    {
      "cell_type": "markdown",
      "source": [
        "### Pista"
      ],
      "metadata": {
        "id": "U5Mqa40niGd-"
      }
    },
    {
      "cell_type": "markdown",
      "source": [
        "Define una lista con las respuestas de la encuesta (por ejemplo: [3, 4, 5, 2, 4, 1, 5]).\n",
        "Usa un bucle for para recorrer la lista y un condicional para verificar si una respuesta es 4 o 5.\n",
        "Lleva un conteo y muestra el número de personas satisfechas o muy satisfechas.\n",
        "Ejemplo de Entrada y Salida:\n",
        "\n",
        "Entrada: [3, 4, 5, 2, 4, 1, 5]\n",
        "Salida: 4 personas están satisfechas o muy satisfechas."
      ],
      "metadata": {
        "id": "FsKZW0ruh9K4"
      }
    },
    {
      "cell_type": "markdown",
      "source": [
        "### Solución (Ver luego de resolverlo)"
      ],
      "metadata": {
        "id": "tCA__olHldBx"
      }
    },
    {
      "cell_type": "code",
      "source": [
        "# Define la lista de respuestas de la encuesta\n",
        "respuestas = [3, 4, 5, 2, 4, 1, 5]\n",
        "\n",
        "# Inicializa un contador para las personas satisfechas\n",
        "contador_satisfechos = 0\n",
        "\n",
        "# Recorre la lista de respuestas\n",
        "for respuesta in respuestas:\n",
        "    if respuesta >= 4:  # Verifica si la respuesta es 4 o 5\n",
        "        contador_satisfechos += 1\n",
        "\n",
        "# Muestra el resultado\n",
        "print(f\"{contador_satisfechos} personas están satisfechas o muy satisfechas.\")\n"
      ],
      "metadata": {
        "id": "SHZQUu9blhTc"
      },
      "execution_count": null,
      "outputs": []
    },
    {
      "cell_type": "markdown",
      "source": [
        "## **Promedio ingresos**"
      ],
      "metadata": {
        "id": "na4OPY00iZjv"
      }
    },
    {
      "cell_type": "markdown",
      "source": [
        "En un estudio sobre ingresos, tienes los datos de ingresos mensuales de 5 personas. Calcula el ingreso promedio y determina si está por encima o por debajo del salario mínimo (supongamos $1000000)."
      ],
      "metadata": {
        "id": "J2p7dld0i-86"
      }
    },
    {
      "cell_type": "code",
      "source": [
        "#Su solución"
      ],
      "metadata": {
        "id": "6Opm9CqEmM4P"
      },
      "execution_count": null,
      "outputs": []
    },
    {
      "cell_type": "markdown",
      "source": [
        "### Pista"
      ],
      "metadata": {
        "id": "i9PSS5wAjFQV"
      }
    },
    {
      "cell_type": "markdown",
      "source": [
        "Define una lista con los ingresos (por ejemplo: [800, 1200, 950, 1100, 700]).\n",
        "Usa un bucle for para sumar los ingresos y calcula el promedio.\n",
        "Usa un condicional para determinar si el promedio está por encima o por debajo del salario mínimo.\n",
        "Imprime el promedio y la clasificación."
      ],
      "metadata": {
        "id": "oXuILNG1jR56"
      }
    },
    {
      "cell_type": "markdown",
      "source": [
        "### Solución"
      ],
      "metadata": {
        "id": "yOxULYHBmHSX"
      }
    },
    {
      "cell_type": "code",
      "source": [
        "# Define la lista de ingresos\n",
        "ingresos = [800, 1200, 950, 1100, 700]\n",
        "\n",
        "# Calcula la suma total de los ingresos\n",
        "suma_ingresos = 0\n",
        "for ingreso in ingresos:\n",
        "    suma_ingresos += ingreso\n",
        "\n",
        "# Calcula el promedio\n",
        "promedio = suma_ingresos / len(ingresos)\n",
        "\n",
        "# Determina si está por encima o por debajo del salario mínimo\n",
        "salario_minimo = 1000\n",
        "if promedio >= salario_minimo:\n",
        "    print(f\"Promedio de ingresos: ${promedio:.2f}\")\n",
        "    print(\"El promedio está por encima del salario mínimo.\")\n",
        "else:\n",
        "    print(f\"Promedio de ingresos: ${promedio:.2f}\")\n",
        "    print(\"El promedio está por debajo del salario mínimo.\")\n"
      ],
      "metadata": {
        "colab": {
          "base_uri": "https://localhost:8080/"
        },
        "id": "7ME6AVpziXQB",
        "outputId": "158dc7de-a23d-458c-d00b-8d630ecf683a"
      },
      "execution_count": 8,
      "outputs": [
        {
          "output_type": "stream",
          "name": "stdout",
          "text": [
            "Promedio de ingresos: $950.00\n",
            "El promedio está por debajo del salario mínimo.\n"
          ]
        }
      ]
    },
    {
      "cell_type": "code",
      "source": [],
      "metadata": {
        "id": "da1F5AknmdG6"
      },
      "execution_count": null,
      "outputs": []
    },
    {
      "cell_type": "markdown",
      "source": [
        "## **Calculadora básica**"
      ],
      "metadata": {
        "id": "24iYuolYpR0f"
      }
    },
    {
      "cell_type": "markdown",
      "source": [
        "Realiza un algoritmo que pida dos números al usuario y los sume-reste-multiplique y divida y muestre el resultado de cada operación"
      ],
      "metadata": {
        "id": "UK-SzL2epmsq"
      }
    },
    {
      "cell_type": "code",
      "source": [
        "# Solución"
      ],
      "metadata": {
        "id": "UqjPXVHOpuS3"
      },
      "execution_count": null,
      "outputs": []
    },
    {
      "cell_type": "markdown",
      "source": [
        "### Solución"
      ],
      "metadata": {
        "id": "912P1yH_pwaL"
      }
    },
    {
      "cell_type": "code",
      "source": [
        "# Solicitar dos números al usuario\n",
        "numero1 = float(input(\"Ingrese el primer número: \"))\n",
        "numero2 = float(input(\"Ingrese el segundo número: \"))\n",
        "\n",
        "# Realizar las operaciones\n",
        "suma = numero1 + numero2\n",
        "resta = numero1 - numero2\n",
        "multiplicacion = numero1 * numero2\n",
        "\n",
        "# Manejar división por cero\n",
        "if numero2 != 0:\n",
        "    division = numero1 / numero2\n",
        "else:\n",
        "    division = \"No se puede dividir por cero\"\n",
        "\n",
        "# Mostrar los resultados\n",
        "print(\"\\nResultados de las operaciones:\")\n",
        "print(f\"Suma: {numero1} + {numero2} = {suma}\")\n",
        "print(f\"Resta: {numero1} - {numero2} = {resta}\")\n",
        "print(f\"Multiplicación: {numero1} * {numero2} = {multiplicacion}\")\n",
        "print(f\"División: {numero1} / {numero2} = {division}\")"
      ],
      "metadata": {
        "id": "6LrWdT0fpzRp"
      },
      "execution_count": null,
      "outputs": []
    }
  ]
}